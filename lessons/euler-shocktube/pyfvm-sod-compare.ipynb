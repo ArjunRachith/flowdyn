{
 "cells": [
  {
   "cell_type": "markdown",
   "metadata": {},
   "source": [
    "# Étude du cas de Sod (tube à choc)\n",
    "\n",
    "`Python` sera utilisé ici comme `matlab`. Des fonctionnalités supplémentaires peuvent être ajoutées par l'import de modules, standards à une distribution (comme `math`, `numpy`) ou personnalisés comme ci-dessous. Des fonctionnalités d'édition sont propres à [`Ipython/Notebook`](#ipython)."
   ]
  },
  {
   "cell_type": "code",
   "execution_count": null,
   "metadata": {
    "collapsed": false
   },
   "outputs": [],
   "source": [
    "%matplotlib inline\n",
    "import numpy as np\n",
    "import matplotlib.pyplot as plt\n",
    "import time\n",
    "plt.rcParams['font.size'] = 14 ; plt.rcParams['axes.grid'] = True ; plt.rcParams['grid.linestyle'] = ':'\n",
    "plt.rcParams['lines.linewidth'] = 1.5 ; plt.rcParams['legend.fontsize'] = 12\n",
    "#\n",
    "import pyfvm.mesh  as mesh\n",
    "import pyfvm.model as model\n",
    "import pyfvm.field as data\n",
    "from pyfvm.xnum        import *\n",
    "from pyfvm.integration import *\n",
    "import sod\n",
    "#print plt.rcParams"
   ]
  },
  {
   "cell_type": "markdown",
   "metadata": {},
   "source": [
    "On cherche à résoudre l'évolution instationnaire du problème linéaire de convection suivant\n",
    "\n",
    "$$ \\frac{\\partial q}{\\partial t} + a \\frac{\\partial q}{\\partial x} = 0 $$\n",
    "\n",
    "pour la quantité transportée $q(x,t)$ et la condition intiale $q_0(x)$ sur le domaine $[0;\\ell]$ avec des conditions périodiques. On choisit $\\ell=1\\rm~m$ et $a=1\\rm~m/s$. \n",
    "\n",
    "\n",
    "## Définition des maillages, du modèle physique et solution initiales\n"
   ]
  },
  {
   "cell_type": "code",
   "execution_count": null,
   "metadata": {
    "collapsed": false
   },
   "outputs": [],
   "source": [
    "meshref = mesh.unimesh(ncell=1000, length=1.)\n",
    "mesh100 = mesh.unimesh(ncell=100, length=1.)\n",
    "mesh50  = mesh.unimesh(ncell=50,  length=1.)\n",
    "\n",
    "mymodel = model.eulermodel()\n",
    "\n",
    "#boundary condition bc : type of boundary condition - \"p\"=periodic / \"d\"=Dirichlet\n",
    "bc       = 'd'\n",
    "bcvalues = []\n",
    "neq      = 3\n",
    "\n",
    "for i in range(neq+1):\n",
    "    bcvalues.append(np.zeros(2))\n",
    "\n",
    "# Left Boundary\n",
    "\n",
    "bcvalues[0][0] = 1.0      # density  rho\n",
    "bcvalues[1][0] = 0.0      # velocity u       \n",
    "bcvalues[2][0] = 2.5      # int. nrg e            \n",
    "bcvalues[3][0] = 1.0      # pressure p            \n",
    "\n",
    "# Right Boundary\n",
    "\n",
    "bcvalues[0][1] = 0.125    # density  rho            \n",
    "bcvalues[1][1] = 0.0      # velocity u            \n",
    "bcvalues[2][1] = 2.0      # int. nrg e             \n",
    "bcvalues[3][1] = 0.1      # pressure p            \n",
    "\n",
    "gamma      = 1.4\n"
   ]
  },
  {
   "cell_type": "code",
   "execution_count": null,
   "metadata": {
    "collapsed": false
   },
   "outputs": [],
   "source": [
    "# Set of computations\n",
    "endtime = 0.25\n",
    "cfls    = [ 0.8 ]\n",
    "# extrapol1(), extrapol2()=extrapolk(1), centered=extrapolk(-1), extrapol3=extrapolk(1./3.)\n",
    "#xmeths  = [ extrapol1(), extrapol2(), centered(), extrapol3() ]\n",
    "xmeths  = [ extrapol1(), muscl() ]\n",
    "# explicit, rk2, rk3ssp, rk4, implicit, trapezoidal=cranknicolson\n",
    "tmeths  = [ rk4 ]\n",
    "#legends = [ 'O1 upwind', 'O2 upwind', 'O2 centered', 'O3 extrapol' ]\n",
    "legends = [ 'O1','O2 muscl' ]\n",
    "\n",
    "meshs      = [ mesh100 ]\n",
    "initm      = sod.initSod\n",
    "exactPdata = sod.exactSod(meshref,endtime)\n",
    "\n",
    "solvers = []\n",
    "results = []\n",
    "\n",
    "nbcalc  = max(len(cfls), len(tmeths), len(xmeths), len(meshs))\n",
    "\n",
    "for i in range(nbcalc):\n",
    "    field0 = scafield(mymodel, bc, (meshs*nbcalc)[i].ncell, bcvalues)\n",
    "    field0.qdata = initm((meshs*nbcalc)[i])\n",
    "    solvers.append((tmeths*nbcalc)[i]((meshs*nbcalc)[i], (xmeths*nbcalc)[i]))\n",
    "    start = time.clock()\n",
    "    results.append(solvers[-1].solve(field0, (cfls*nbcalc)[i], np.array([endtime])))\n",
    "    print \"cpu time of \"+\"%-11s\"%(legends[i])+\" computation (\",solvers[-1].nit,\"it) :\",time.clock()-start,\"s\""
   ]
  },
  {
   "cell_type": "code",
   "execution_count": null,
   "metadata": {
    "collapsed": false
   },
   "outputs": [],
   "source": [
    "fig, ax = plt.subplots(2,2, figsize=[18,12])\n",
    "\n",
    "# Figure\n",
    "refstyle = 'k-'\n",
    "markers = ['o', 'x', 'D', '*', '+', '>', '<', 'd']\n",
    "markerstyle = {'color': 'black', 'markerfacecolor': 'none', 'markersize':5, 'markeredgewidth': 1.2, 'alpha': 1.0, 'markeredgecolor': 'blue'}\n",
    "#\n",
    "labels = [\"exact solution\"]\n",
    "for i in range(nbcalc):\n",
    "    labels.append(legends[i]+\", t=%.2f\"%results[i][0].time)\n",
    "# Density\n",
    "#\n",
    "#fig.suptitle('Density profile along the Sod shock-tube, CFL %.3f'%cfls[0], fontsize=12, y=0.93)\n",
    "# Exact solution\n",
    "ax[0][0].plot(meshref.centers(), exactPdata[0], refstyle)\n",
    "# Numerical solution\n",
    "for i in range(nbcalc):\n",
    "    rho=results[i][0].qdata[0]\n",
    "    ax[0][0].plot((meshs*nbcalc)[i].centers(), rho, markers[i], **markerstyle)\n",
    "ax[0][0].legend(labels, loc='best',prop={'size':10})\n",
    "# \n",
    "# VELOCITY\n",
    "#\n",
    "#fig.suptitle('Velocity profile along the Sod shock-tube, CFL %.3f'%cfls[0], fontsize=12, y=0.93)\n",
    "# Exact solution\n",
    "ax[1][0].plot(meshref.centers(), exactPdata[1], refstyle)\n",
    "# Numerical solution\n",
    "for i in range(nbcalc):\n",
    "    u = results[i][0].qdata[1]/results[i][0].qdata[0] \n",
    "    ax[1][0].plot((meshs*nbcalc)[i].centers(), u, markers[i], **markerstyle)\n",
    "ax[1][0].legend(labels, loc='best',prop={'size':10})\n",
    "#\n",
    "# INTERNAL ENERGY\n",
    "#\n",
    "#fig.suptitle('Internal Energy profile along the Sod shock-tube, CFL %.3f'%cfls[0], fontsize=12, y=0.93)\n",
    "# Exact solution\n",
    "ax[0][1].plot(meshref.centers(), exactPdata[2], refstyle)\n",
    "# Numerical solution\n",
    "for i in range(nbcalc):\n",
    "    e = (results[i][0].qdata[2]-0.5*results[i][0].qdata[1]**2/results[i][0].qdata[0])/results[i][0].qdata[0]\n",
    "    ax[0][1].plot((meshs*nbcalc)[i].centers(), e, markers[i], **markerstyle)\n",
    "ax[0][1].legend(labels, loc='best',prop={'size':10})\n",
    "#\n",
    "# PRESSURE\n",
    "#\n",
    "#fig.suptitle('Pressure profile along the Sod shock-tube, CFL %.3f'%cfls[0], fontsize=12, y=0.93)\n",
    "# Exact solution\n",
    "ax[1][1].plot(meshref.centers(), exactPdata[3], refstyle) \n",
    "# Numerical solution\n",
    "for i in range(nbcalc):\n",
    "    p = (gamma-1.0)*(results[i][0].qdata[2]-0.5*results[i][0].qdata[1]**2/results[i][0].qdata[0])\n",
    "    ax[1][1].plot((meshs*nbcalc)[i].centers(), p, markers[i], **markerstyle)\n",
    "ax[1][1].legend(labels, loc='best',prop={'size':10})\n",
    "                           "
   ]
  },
  {
   "cell_type": "markdown",
   "metadata": {},
   "source": [
    "## Calcul et comparaison"
   ]
  },
  {
   "cell_type": "markdown",
   "metadata": {
    "collapsed": true
   },
   "source": [
    "---\n",
    "\n",
    "<a id=\"ipython\"></a>\n",
    "## Ipython et notebook : usage\n",
    "\n",
    "* le notebook utilise la langage de base python en version améliorée, Ipython, qui permet la complétion des noms (variables, fonctions, modules) avec la touche tabulation\n",
    "* toutes les cellules peuvent être modifiées par un double-clic et sont réinterprêtées avec `shift-entrée`\n",
    "* l'ensemble de la feuille peut être exécutée avec le menu `Cell/run all cells`\n",
    "* **n'oubliez pas de sauvegarder régulièrement votre feuille** (bouton _enregistrer_)\n"
   ]
  },
  {
   "cell_type": "code",
   "execution_count": null,
   "metadata": {
    "collapsed": false
   },
   "outputs": [],
   "source": [
    "from IPython.core.display import HTML ; HTML(open(\"../custom.css\", \"r\").read()) # notebook style"
   ]
  }
 ],
 "metadata": {
  "kernelspec": {
   "display_name": "Python 2",
   "language": "python",
   "name": "python2"
  },
  "language_info": {
   "codemirror_mode": {
    "name": "ipython",
    "version": 2
   },
   "file_extension": ".py",
   "mimetype": "text/x-python",
   "name": "python",
   "nbconvert_exporter": "python",
   "pygments_lexer": "ipython2",
   "version": "2.7.15"
  }
 },
 "nbformat": 4,
 "nbformat_minor": 2
}