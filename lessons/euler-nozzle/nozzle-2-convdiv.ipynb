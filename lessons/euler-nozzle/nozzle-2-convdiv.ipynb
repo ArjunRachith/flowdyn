{
 "cells": [
  {
   "cell_type": "code",
   "execution_count": 1,
   "metadata": {
    "collapsed": false
   },
   "outputs": [],
   "source": [
    "import time\n",
    "import matplotlib.pyplot as plt\n",
    "import numpy as np \n",
    "%matplotlib inline\n",
    "from pyfvm.mesh  import *\n",
    "from pyfvm.field import *\n",
    "from pyfvm.xnum  import *\n",
    "from pyfvm.integration import *\n",
    "import pyfvm.modelphy.euler as euler\n",
    "import pyfvm.modeldisc      as modeldisc\n",
    "#\n",
    "plt.rcParams['figure.dpi'] = 80\n",
    "plt.rcParams['savefig.dpi'] = 100\n",
    "#plt.rcParams[\"animation.html\"] = \"jshtml\"  # for matplotlib 2.1 and above, uses JavaScript\n",
    "plt.rcParams[\"animation.html\"] = \"html5\" # for matplotlib 2.0 and below, converts to x264 using ffmpeg video codec"
   ]
  },
  {
   "cell_type": "code",
   "execution_count": 19,
   "metadata": {
    "collapsed": false
   },
   "outputs": [],
   "source": [
    "nx = 200\n",
    "meshsim  = unimesh(ncell=nx,  length=10.)\n",
    "\n",
    "def S(x):\n",
    "    return 1.-.5*np.exp(-.5*(x-5.)**2)\n",
    "\n",
    "plt.plot(meshsim.centers(), S(meshsim.centers())) ; plt.ylim(0,1)\n",
    "\n",
    "model = euler.nozzle(sectionlaw=S)\n",
    "bcL = { 'type': 'insub',  'ptot': 1.4, 'rttot': 1. }\n",
    "bcR = { 'type': 'outsub', 'p': 1. }\n",
    "\n",
    "rhs = modeldisc.fvm(model, meshsim, muscl(vanalbada), \n",
    "      bcL=bcL, bcR=bcR)\n",
    "solver = rk3ssp(meshsim, rhs)\n",
    "\n",
    "# computation\n",
    "#\n",
    "nsol    = 100\n",
    "endtime = 50.\n",
    "cfl     = .5\n",
    "\n",
    "finit = rhs.fdata(model.prim2cons([  1., 0., 1. ])) # rho, u, p\n",
    "\n",
    "start = time.clock()\n",
    "fsol = solver.solve(finit, cfl, np.linspace(0., endtime, nsol+1))\n",
    "cputime = time.clock()-start\n",
    "\n",
    "print \"cpu time computation (\",solver.nit,\"it) :\",cputime,\"s\"\n",
    "print \"  %.2f µs/cell/it\"%(cputime*1.e6/solver.nit/meshsim.ncell)\n",
    "mach_th = np.sqrt(((bcL['ptot']/bcR['p'])**(1./3.5)-1.)/.2)\n",
    "print \"theoretical Mach: \", mach_th\n"
   ]
  },
  {
   "cell_type": "code",
   "execution_count": 20,
   "metadata": {
    "collapsed": false
   },
   "outputs": [],
   "source": [
    "# Figure / Plot of final results\n",
    "varname='mach'\n",
    "fig, (ax1,ax2) = plt.subplots(1, 2, figsize=(12,4))\n",
    "ax1.set_ylabel(varname) ; ax1.set_ylim(0., 1.1*np.max(fsol[-1].phydata(varname)))\n",
    "ax1.grid(linestyle='--', color='0.5')\n",
    "line1, = fsol[-1].plot(varname, 'k-', axes=ax1)\n",
    "ax2.set_ylabel('error') ; ax2.set_ylim(0.001, 1.)\n",
    "ax2.grid(linestyle='--', color='0.5')\n",
    "ttime = [ fsol[i].time for i in range(nsol+1) ]\n",
    "error = [ np.sqrt(np.sum((fsol[i].phydata(varname)-mach_th)**2)/nx)/mach_th for i in range(nsol+1) ]\n",
    "#print error\n",
    "line2, = ax2.semilogy(ttime, error)\n"
   ]
  },
  {
   "cell_type": "code",
   "execution_count": 14,
   "metadata": {
    "collapsed": false
   },
   "outputs": [],
   "source": [
    "import matplotlib.animation as anim\n",
    "#\n",
    "def animate(k):\n",
    "    #i = min(k, nsol)\n",
    "    fsol[k].set_plotdata(line1, varname)\n",
    "    line2.set_data(ttime[0:k], error[0:k])\n",
    "    return line1, line2\n",
    "\n",
    "ani = anim.FuncAnimation(fig=fig, func=animate, frames=range(nsol+1), interval=100, blit=True)\n",
    "ani\n",
    "#from IPython.display import HTML\n",
    "#HTML(ani.to_html5_video()) # if no rcparams"
   ]
  },
  {
   "cell_type": "code",
   "execution_count": null,
   "metadata": {
    "collapsed": false
   },
   "outputs": [],
   "source": []
  },
  {
   "cell_type": "code",
   "execution_count": null,
   "metadata": {
    "collapsed": false
   },
   "outputs": [],
   "source": []
  },
  {
   "cell_type": "code",
   "execution_count": null,
   "metadata": {
    "collapsed": false
   },
   "outputs": [],
   "source": []
  }
 ],
 "metadata": {
  "kernelspec": {
   "display_name": "Python 2",
   "language": "python",
   "name": "python2"
  },
  "language_info": {
   "codemirror_mode": {
    "name": "ipython",
    "version": 2
   },
   "file_extension": ".py",
   "mimetype": "text/x-python",
   "name": "python",
   "nbconvert_exporter": "python",
   "pygments_lexer": "ipython2",
   "version": "2.7.9"
  }
 },
 "nbformat": 4,
 "nbformat_minor": 2
}